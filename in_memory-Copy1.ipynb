{
 "cells": [
  {
   "cell_type": "code",
   "execution_count": null,
   "metadata": {
    "collapsed": false,
    "deletable": true,
    "editable": true
   },
   "outputs": [],
   "source": [
    "import csv\n",
    "import cv2\n",
    "import sklearn\n",
    "import numpy as np\n",
    "from keras_tqdm import TQDMNotebookCallback\n",
    "from log_progress import log_progress\n",
    "\n",
    "import sys\n",
    "sys.stdout.isatty()\n"
   ]
  },
  {
   "cell_type": "code",
   "execution_count": null,
   "metadata": {
    "collapsed": false,
    "deletable": true,
    "editable": true
   },
   "outputs": [],
   "source": [
    "lines = []\n",
    "\n",
    "paths_to_import = ['D:\\\\Car Engine\\\\Attempt on Track 2\\\\']\n",
    "\n",
    "samples = []\n",
    "\n",
    "correction = 0.2\n",
    "\n",
    "flipped = True\n",
    "unflipped = False\n",
    "for base_path in paths_to_import:\n",
    "    with open(base_path + 'driving_log.csv') as csvfile:\n",
    "        reader = csv.reader(csvfile)\n",
    "        i = 0\n",
    "        for line in reader:\n",
    "            center_path = line[0]\n",
    "            left_path = line[1]\n",
    "            right_path = line[2]\n",
    "            steering_center = float(line[3])\n",
    "            samples.append((base_path,center_path, steering_center, unflipped))\n",
    "            samples.append((base_path,left_path, steering_center + correction, unflipped))\n",
    "            samples.append((base_path,right_path, steering_center - correction, unflipped))\n",
    "\n",
    "            #samples.append((center_path, steering_center * -1, flipped))\n",
    "            #samples.append((left_path, (steering_center + correction) * -1, flipped))\n",
    "            #samples.append((right_path, (steering_center - correction) * -1, flipped))\n",
    "\n",
    "            i+=1\n",
    "            if i % 1000 == 0:\n",
    "                print(i)\n"
   ]
  },
  {
   "cell_type": "code",
   "execution_count": null,
   "metadata": {
    "collapsed": false,
    "deletable": true,
    "editable": true
   },
   "outputs": [],
   "source": [
    "def process_image(x):\n",
    "    return x/127.5 - 1.\n",
    "\n",
    "def load_image(sample):\n",
    "    name = sample[0] + 'IMG\\\\'+ sample[1].split(\"\\\\\")[-1]\n",
    "    img = cv2.imread( name)\n",
    "    if img is None:\n",
    "        print(\"Name is bad\", name)\n",
    "        awd\n",
    "    return img\n",
    "#    return process_image(cv2.imread(name))\n",
    "\n",
    "X_train = np.array([load_image(sample) for sample in log_progress(samples)])\n",
    "Y_train = np.array([sample[2] for sample in log_progress(samples)])"
   ]
  },
  {
   "cell_type": "code",
   "execution_count": null,
   "metadata": {
    "collapsed": false,
    "deletable": true,
    "editable": true
   },
   "outputs": [],
   "source": [
    "X_train[0].shape"
   ]
  },
  {
   "cell_type": "code",
   "execution_count": null,
   "metadata": {
    "collapsed": false,
    "deletable": true,
    "editable": true
   },
   "outputs": [],
   "source": [
    "%matplotlib inline\n",
    "\n",
    "import matplotlib\n",
    "import numpy as np\n",
    "import matplotlib.pyplot as plt\n",
    "\n",
    "img = X_train[0].copy()\n",
    "\n",
    "start = 55\n",
    "end = 130\n",
    "height = img.shape[1]\n",
    "width = img.shape[0]\n",
    "\n",
    "\n",
    "\n",
    "img[start:end] = img[start:end] * 0.5\n",
    "plt.figure()\n",
    "plt.imshow(img)\n",
    "\n",
    "img = X_train[0][start:end]\n",
    "print(img.shape)\n",
    "plt.figure()\n",
    "plt.imshow(img)"
   ]
  },
  {
   "cell_type": "code",
   "execution_count": null,
   "metadata": {
    "collapsed": true,
    "deletable": true,
    "editable": true
   },
   "outputs": [],
   "source": [
    "ch, row, col = 3, 160, 320"
   ]
  },
  {
   "cell_type": "code",
   "execution_count": null,
   "metadata": {
    "collapsed": false,
    "deletable": true,
    "editable": true
   },
   "outputs": [],
   "source": [
    "from keras.models import Sequential\n",
    "from keras.layers import Flatten, Dense, Lambda\n",
    "from keras.layers.convolutional import Cropping2D, Conv2D\n",
    "model = Sequential()\n",
    "# Preprocess incoming data, centered around zero with small standard deviation\n",
    "model.add(Lambda(lambda x: x/255.0 - 0.5, input_shape=(row, col, ch)))\n",
    "model.add(Cropping2D(cropping=((40,15),(0,0))))\n",
    "\n",
    "model.add(Conv2D(24,5,5, subsample=(2,2), activation=\"relu\"))\n",
    "model.add(Conv2D(36,5,5, subsample=(2,2), activation=\"relu\"))\n",
    "model.add(Conv2D(48,5,5, subsample=(2,2), activation=\"relu\"))\n",
    "\n",
    "model.add(Conv2D(48,3,3, activation=\"relu\"))\n",
    "model.add(Conv2D(48,3,3, activation=\"relu\"))\n",
    "\n",
    "model.add(Flatten())\n",
    "\n",
    "model.add(Dense(100))\n",
    "model.add(Dense(50))\n",
    "model.add(Dense(10))\n",
    "model.add(Dense(1))\n",
    "\n",
    "model.compile(loss='mse', optimizer='adam')"
   ]
  },
  {
   "cell_type": "code",
   "execution_count": null,
   "metadata": {
    "collapsed": false,
    "deletable": true,
    "editable": true
   },
   "outputs": [],
   "source": [
    "if True:\n",
    "    print(\"Fitting, non terminal\")\n",
    "    model.fit(X_train[0:500], Y_train[0:500], epochs=3, shuffle=True)\n",
    "else:\n",
    "    model.fit(X_train[0:500], Y_train[0:500], validation_split=0.2, verbose=0, callbacks=[TQDMNotebookCallback()], epochs=5, shuffle=True)\n"
   ]
  },
  {
   "cell_type": "code",
   "execution_count": null,
   "metadata": {
    "collapsed": false,
    "deletable": true,
    "editable": true
   },
   "outputs": [],
   "source": [
    "print(\"Saving\")\n",
    "model_name = './model_2.h5'\n",
    "model.save(model_name)\n",
    "print(\"Saved: \", model_name)"
   ]
  },
  {
   "cell_type": "code",
   "execution_count": null,
   "metadata": {
    "collapsed": true,
    "deletable": true,
    "editable": true
   },
   "outputs": [],
   "source": []
  }
 ],
 "metadata": {
  "kernelspec": {
   "display_name": "Python 3",
   "language": "python",
   "name": "python3"
  },
  "language_info": {
   "codemirror_mode": {
    "name": "ipython",
    "version": 3
   },
   "file_extension": ".py",
   "mimetype": "text/x-python",
   "name": "python",
   "nbconvert_exporter": "python",
   "pygments_lexer": "ipython3",
   "version": "3.5.0"
  }
 },
 "nbformat": 4,
 "nbformat_minor": 2
}
